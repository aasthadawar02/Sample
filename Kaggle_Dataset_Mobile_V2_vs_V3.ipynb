{
  "nbformat": 4,
  "nbformat_minor": 0,
  "metadata": {
    "colab": {
      "provenance": [],
      "authorship_tag": "ABX9TyP9jYLKgGjfr1yEmfIli+IT",
      "include_colab_link": true
    },
    "kernelspec": {
      "name": "python3",
      "display_name": "Python 3"
    },
    "language_info": {
      "name": "python"
    }
  },
  "cells": [
    {
      "cell_type": "markdown",
      "metadata": {
        "id": "view-in-github",
        "colab_type": "text"
      },
      "source": [
        "<a href=\"https://colab.research.google.com/github/aasthadawar02/Sample/blob/main/Kaggle_Dataset_Mobile_V2_vs_V3.ipynb\" target=\"_parent\"><img src=\"https://colab.research.google.com/assets/colab-badge.svg\" alt=\"Open In Colab\"/></a>"
      ]
    },
    {
      "cell_type": "code",
      "execution_count": 1,
      "metadata": {
        "id": "EidvIMyW7P2j"
      },
      "outputs": [],
      "source": [
        "import matplotlib.pyplot as plt\n",
        "import numpy as np\n",
        "import tensorflow as tf\n",
        "import tensorflow_hub as hub\n",
        "import PIL.Image as Image\n",
        "import tensorflow_datasets as tfds\n",
        "import pandas as pd"
      ]
    },
    {
      "cell_type": "code",
      "source": [
        "import tensorflow as tf\n",
        "import numpy as np\n",
        "import os\n",
        "from PIL import Image, ImageFilter\n",
        "import matplotlib.pyplot as plt\n",
        "from google.colab import drive\n",
        "from sklearn.metrics import accuracy_score"
      ],
      "metadata": {
        "id": "wvlVhwe-7UHM"
      },
      "execution_count": 2,
      "outputs": []
    },
    {
      "cell_type": "code",
      "source": [
        "drive.mount('/content/drive', force_remount=True)"
      ],
      "metadata": {
        "colab": {
          "base_uri": "https://localhost:8080/"
        },
        "id": "MJcRRsKQ7UMH",
        "outputId": "5d11d4ad-b6bd-4d01-8f67-bbf748d6b499"
      },
      "execution_count": 3,
      "outputs": [
        {
          "output_type": "stream",
          "name": "stdout",
          "text": [
            "Mounted at /content/drive\n"
          ]
        }
      ]
    },
    {
      "cell_type": "code",
      "source": [
        "train_directory=\"/content/drive/MyDrive/TME_6015/Assignment_2/Big_Cats_Kaggle/train\"\n",
        "\n",
        "train_data = tf.keras.utils.image_dataset_from_directory(train_directory,\n",
        "                                                         validation_split=None,\n",
        "                                                         image_size=(128, 128),\n",
        "                                                         batch_size=16)"
      ],
      "metadata": {
        "colab": {
          "base_uri": "https://localhost:8080/"
        },
        "id": "bTANU6rX7UPK",
        "outputId": "9726af82-cc07-4ef6-e62c-f638c2d7017c"
      },
      "execution_count": 4,
      "outputs": [
        {
          "output_type": "stream",
          "name": "stdout",
          "text": [
            "Found 2339 files belonging to 10 classes.\n"
          ]
        }
      ]
    },
    {
      "cell_type": "code",
      "source": [
        "train_data"
      ],
      "metadata": {
        "colab": {
          "base_uri": "https://localhost:8080/"
        },
        "id": "Lz3IEPGT7USI",
        "outputId": "934fd3ae-f5cd-4c9f-bb86-3826a344f94e"
      },
      "execution_count": 5,
      "outputs": [
        {
          "output_type": "execute_result",
          "data": {
            "text/plain": [
              "<_BatchDataset element_spec=(TensorSpec(shape=(None, 128, 128, 3), dtype=tf.float32, name=None), TensorSpec(shape=(None,), dtype=tf.int32, name=None))>"
            ]
          },
          "metadata": {},
          "execution_count": 5
        }
      ]
    },
    {
      "cell_type": "code",
      "source": [
        "validation_directory=\"/content/drive/MyDrive/TME_6015/Assignment_2/Big_Cats_Kaggle/valid\"\n",
        "validation_data = tf.keras.utils.image_dataset_from_directory(validation_directory,\n",
        "                                                         validation_split=None,\n",
        "                                                         image_size=(128, 128),\n",
        "                                                         batch_size=16)"
      ],
      "metadata": {
        "colab": {
          "base_uri": "https://localhost:8080/"
        },
        "id": "Qps3MPqr7UU-",
        "outputId": "6560f91a-89af-4a6c-d17c-ec865489a3de"
      },
      "execution_count": 6,
      "outputs": [
        {
          "output_type": "stream",
          "name": "stdout",
          "text": [
            "Found 50 files belonging to 10 classes.\n"
          ]
        }
      ]
    },
    {
      "cell_type": "code",
      "source": [
        "validation_data"
      ],
      "metadata": {
        "colab": {
          "base_uri": "https://localhost:8080/"
        },
        "id": "PsTy1lUO7UX1",
        "outputId": "cd3332eb-9898-42d4-b509-dd9839ac418c"
      },
      "execution_count": 7,
      "outputs": [
        {
          "output_type": "execute_result",
          "data": {
            "text/plain": [
              "<_BatchDataset element_spec=(TensorSpec(shape=(None, 128, 128, 3), dtype=tf.float32, name=None), TensorSpec(shape=(None,), dtype=tf.int32, name=None))>"
            ]
          },
          "metadata": {},
          "execution_count": 7
        }
      ]
    },
    {
      "cell_type": "code",
      "source": [
        "test_directory=\"/content/drive/MyDrive/TME_6015/Assignment_2/Big_Cats_Kaggle/test\"\n",
        "test_data = tf.keras.utils.image_dataset_from_directory(test_directory,\n",
        "                                                         validation_split=None,\n",
        "                                                         image_size=(128, 128),\n",
        "                                                         batch_size=16)"
      ],
      "metadata": {
        "colab": {
          "base_uri": "https://localhost:8080/"
        },
        "id": "yLlF8H6G7Uan",
        "outputId": "d1e732d5-bd3c-4aeb-cd8b-de67c6da4e8e"
      },
      "execution_count": 8,
      "outputs": [
        {
          "output_type": "stream",
          "name": "stdout",
          "text": [
            "Found 50 files belonging to 10 classes.\n"
          ]
        }
      ]
    },
    {
      "cell_type": "code",
      "source": [
        "test_data"
      ],
      "metadata": {
        "colab": {
          "base_uri": "https://localhost:8080/"
        },
        "id": "sKCNvqoU7Udp",
        "outputId": "5f1c5c47-af13-487e-e8b5-c9562d4f9a9f"
      },
      "execution_count": 9,
      "outputs": [
        {
          "output_type": "execute_result",
          "data": {
            "text/plain": [
              "<_BatchDataset element_spec=(TensorSpec(shape=(None, 128, 128, 3), dtype=tf.float32, name=None), TensorSpec(shape=(None,), dtype=tf.int32, name=None))>"
            ]
          },
          "metadata": {},
          "execution_count": 9
        }
      ]
    },
    {
      "cell_type": "code",
      "source": [
        "normalization_layer = tf.keras.layers.Rescaling(1./255)"
      ],
      "metadata": {
        "id": "sXdoD7K17Ugw"
      },
      "execution_count": 10,
      "outputs": []
    },
    {
      "cell_type": "code",
      "source": [
        "model_handle = \"https://www.kaggle.com/models/google/mobilenet-v2/frameworks/TensorFlow2/variations/035-128-classification/versions/2\"\n",
        "\n",
        "feature_extractor = hub.KerasLayer(model_handle,\n",
        "                                   trainable=True)\n",
        "num_class = 10\n",
        "model = tf.keras.Sequential(\n",
        "    [\n",
        "        normalization_layer,\n",
        "        feature_extractor,\n",
        "        tf.keras.layers.Dense(num_class, activation=\"softmax\")\n",
        "    ]\n",
        ")\n",
        "model.build([None, 128, 128, 3])"
      ],
      "metadata": {
        "id": "QiokKIm57Uju"
      },
      "execution_count": 11,
      "outputs": []
    },
    {
      "cell_type": "code",
      "source": [
        "model.summary()"
      ],
      "metadata": {
        "colab": {
          "base_uri": "https://localhost:8080/"
        },
        "id": "E9sZNk4Y7Um4",
        "outputId": "af733178-d257-43ae-d578-c4f80b7b500b"
      },
      "execution_count": 12,
      "outputs": [
        {
          "output_type": "stream",
          "name": "stdout",
          "text": [
            "Model: \"sequential\"\n",
            "_________________________________________________________________\n",
            " Layer (type)                Output Shape              Param #   \n",
            "=================================================================\n",
            " rescaling (Rescaling)       (None, 128, 128, 3)       0         \n",
            "                                                                 \n",
            " keras_layer (KerasLayer)    (None, 1001)              1692489   \n",
            "                                                                 \n",
            " dense (Dense)               (None, 10)                10020     \n",
            "                                                                 \n",
            "=================================================================\n",
            "Total params: 1702509 (6.49 MB)\n",
            "Trainable params: 1688429 (6.44 MB)\n",
            "Non-trainable params: 14080 (55.00 KB)\n",
            "_________________________________________________________________\n"
          ]
        }
      ]
    },
    {
      "cell_type": "code",
      "source": [
        "model.compile(\n",
        "  optimizer='adam',\n",
        "  loss=tf.keras.losses.SparseCategoricalCrossentropy(from_logits=True),\n",
        "  metrics=['accuracy'])"
      ],
      "metadata": {
        "id": "ZBXodA9y7UqD"
      },
      "execution_count": 13,
      "outputs": []
    },
    {
      "cell_type": "code",
      "source": [
        "EPOCHS = 25\n",
        "history = model.fit(train_data,\n",
        "                    epochs=EPOCHS,\n",
        "                    validation_data=validation_data)"
      ],
      "metadata": {
        "colab": {
          "base_uri": "https://localhost:8080/"
        },
        "id": "tIEtciYL7UtQ",
        "outputId": "f9a89f39-7034-4d33-db4c-161d237f75ed"
      },
      "execution_count": null,
      "outputs": [
        {
          "output_type": "stream",
          "name": "stdout",
          "text": [
            "Epoch 1/25\n"
          ]
        },
        {
          "output_type": "stream",
          "name": "stderr",
          "text": [
            "/usr/local/lib/python3.10/dist-packages/keras/src/backend.py:5714: UserWarning: \"`sparse_categorical_crossentropy` received `from_logits=True`, but the `output` argument was produced by a Softmax activation and thus does not represent logits. Was this intended?\n",
            "  output, from_logits = _get_logits(\n"
          ]
        },
        {
          "output_type": "stream",
          "name": "stdout",
          "text": [
            " 10/147 [=>............................] - ETA: 29s - loss: 4.5881 - accuracy: 0.2625"
          ]
        }
      ]
    },
    {
      "cell_type": "code",
      "source": [
        "plt.plot(history.history['accuracy'], label='accuracy')\n",
        "plt.plot(history.history['val_accuracy'], label = 'val_accuracy')\n",
        "plt.xlabel('Epoch')\n",
        "plt.ylabel('Accuracy')\n",
        "plt.ylim([0.5, 1])\n",
        "plt.legend(loc='lower right')\n",
        "\n",
        "test_loss, test_acc = model.evaluate(validation_data)"
      ],
      "metadata": {
        "id": "VmYPIDmf8VSy"
      },
      "execution_count": null,
      "outputs": []
    },
    {
      "cell_type": "code",
      "source": [
        "print(test_acc)"
      ],
      "metadata": {
        "id": "vfDmxbuG8VV-"
      },
      "execution_count": null,
      "outputs": []
    },
    {
      "cell_type": "code",
      "source": [
        "images=[]\n",
        "labels=[]\n",
        "for image, label in test_data:\n",
        "  images.extend(image.numpy())\n",
        "  labels.extend(label.numpy())\n",
        "predicted_labels = model.predict(np.array(images))\n",
        "predicted_labels = list(map(lambda val : np.argmax(val), predicted_labels))\n",
        "len(predicted_labels)"
      ],
      "metadata": {
        "id": "ic3BRG2N8VZX"
      },
      "execution_count": null,
      "outputs": []
    },
    {
      "cell_type": "code",
      "source": [
        "len(predicted_labels)"
      ],
      "metadata": {
        "id": "H2NQSVWw8Vce"
      },
      "execution_count": null,
      "outputs": []
    },
    {
      "cell_type": "code",
      "source": [
        "num_classes =train_data.class_names"
      ],
      "metadata": {
        "id": "BEdQxXLt8cOM"
      },
      "execution_count": null,
      "outputs": []
    },
    {
      "cell_type": "code",
      "source": [
        "plt.figure(figsize=(10,10))\n",
        "for i in range(16):\n",
        "    plt.subplot(4,4,i+1)\n",
        "    plt.subplots_adjust(hspace = 0.3)\n",
        "    plt.imshow(images[i].astype(\"uint8\"))\n",
        "    color = \"blue\" if predicted_labels[i] == labels[i] else \"red\"\n",
        "    plt.title(num_classes[predicted_labels[i]].title(), color=color)\n",
        "    plt.axis('off')\n",
        "_ = plt.suptitle(\"Model predictions (blue: correct, red: incorrect)\")"
      ],
      "metadata": {
        "id": "S-WVTfgR8cRO"
      },
      "execution_count": null,
      "outputs": []
    },
    {
      "cell_type": "code",
      "source": [
        "from sklearn.metrics import accuracy_score,precision_score,recall_score,f1_score,ConfusionMatrixDisplay,classification_report"
      ],
      "metadata": {
        "id": "DJ1CA4Oj8cUK"
      },
      "execution_count": null,
      "outputs": []
    },
    {
      "cell_type": "code",
      "source": [
        "print(classification_report(labels,predicted_labels))"
      ],
      "metadata": {
        "id": "xkNXQCI58cXB"
      },
      "execution_count": null,
      "outputs": []
    },
    {
      "cell_type": "code",
      "source": [
        "ConfusionMatrixDisplay.from_predictions(labels, predicted_labels, display_labels=num_classes, xticks_rotation=\"vertical\")\n",
        "plt.show()"
      ],
      "metadata": {
        "id": "uzBAkoGy8cZf"
      },
      "execution_count": null,
      "outputs": []
    },
    {
      "cell_type": "code",
      "source": [],
      "metadata": {
        "id": "Y_9OzF158VfQ"
      },
      "execution_count": null,
      "outputs": []
    },
    {
      "cell_type": "code",
      "source": [],
      "metadata": {
        "id": "nxFuPftOCf6K"
      },
      "execution_count": null,
      "outputs": []
    },
    {
      "cell_type": "code",
      "source": [
        "train_directory=\"/content/drive/MyDrive/TME_6015/Assignment_2/Big_Cats_Kaggle/train\"\n",
        "\n",
        "train_data = tf.keras.utils.image_dataset_from_directory(train_directory,\n",
        "                                                         validation_split=None,\n",
        "                                                         image_size=(224, 224),\n",
        "                                                         batch_size=16)"
      ],
      "metadata": {
        "id": "AIv1_wgdCgAK"
      },
      "execution_count": null,
      "outputs": []
    },
    {
      "cell_type": "code",
      "source": [
        "train_data"
      ],
      "metadata": {
        "id": "nLq0pwPuCgEm"
      },
      "execution_count": null,
      "outputs": []
    },
    {
      "cell_type": "code",
      "source": [
        "validation_directory=\"/content/drive/MyDrive/TME_6015/Assignment_2/Big_Cats_Kaggle/valid\"\n",
        "validation_data = tf.keras.utils.image_dataset_from_directory(validation_directory,\n",
        "                                                         validation_split=None,\n",
        "                                                         image_size=(224, 224),\n",
        "                                                         batch_size=16)"
      ],
      "metadata": {
        "id": "roJdKuWYCgIU"
      },
      "execution_count": null,
      "outputs": []
    },
    {
      "cell_type": "code",
      "source": [
        "validation_data"
      ],
      "metadata": {
        "id": "mVcnEAW6C3zZ"
      },
      "execution_count": null,
      "outputs": []
    },
    {
      "cell_type": "code",
      "source": [
        "test_directory=\"/content/drive/MyDrive/TME_6015/Assignment_2/Big_Cats_Kaggle/test\"\n",
        "test_data = tf.keras.utils.image_dataset_from_directory(test_directory,\n",
        "                                                         validation_split=None,\n",
        "                                                         image_size=(224, 224),\n",
        "                                                         batch_size=16)"
      ],
      "metadata": {
        "id": "oFoqX4lNC32S"
      },
      "execution_count": null,
      "outputs": []
    },
    {
      "cell_type": "code",
      "source": [
        "test_data"
      ],
      "metadata": {
        "id": "6a9_RaGIC35L"
      },
      "execution_count": null,
      "outputs": []
    },
    {
      "cell_type": "code",
      "source": [
        "normalization_layer = tf.keras.layers.Rescaling(1./255)"
      ],
      "metadata": {
        "id": "aBFHl19JC38J"
      },
      "execution_count": null,
      "outputs": []
    },
    {
      "cell_type": "code",
      "source": [
        "model_handle = \"https://www.kaggle.com/models/google/mobilenet-v3/frameworks/TensorFlow2/variations/large-075-224-classification/versions/1\"\"\n",
        "\n",
        "feature_extractor = hub.KerasLayer(model_handle,\n",
        "                                   trainable=True)\n",
        "num_class = 10\n",
        "model = tf.keras.Sequential(\n",
        "    [\n",
        "        normalization_layer,\n",
        "        feature_extractor,\n",
        "        tf.keras.layers.Dense(num_class, activation=\"softmax\")\n",
        "    ]\n",
        ")\n",
        "model.build([None, 224, 224, 3])"
      ],
      "metadata": {
        "id": "I9jDUjWeC3-2"
      },
      "execution_count": null,
      "outputs": []
    },
    {
      "cell_type": "code",
      "source": [
        "model.summary()"
      ],
      "metadata": {
        "id": "Z3VXYi8CC4B7"
      },
      "execution_count": null,
      "outputs": []
    },
    {
      "cell_type": "code",
      "source": [
        "model.compile(\n",
        "  optimizer='adam',\n",
        "  loss=tf.keras.losses.SparseCategoricalCrossentropy(from_logits=True),\n",
        "  metrics=['accuracy'])"
      ],
      "metadata": {
        "id": "fzg6lhQxC4Ef"
      },
      "execution_count": null,
      "outputs": []
    },
    {
      "cell_type": "code",
      "source": [
        "EPOCHS = 25\n",
        "history = model.fit(train_data,\n",
        "                    epochs=EPOCHS,\n",
        "                    validation_data=validation_data)"
      ],
      "metadata": {
        "id": "XgbWA75LC4HT"
      },
      "execution_count": null,
      "outputs": []
    },
    {
      "cell_type": "code",
      "source": [
        "plt.plot(history.history['accuracy'], label='accuracy')\n",
        "plt.plot(history.history['val_accuracy'], label = 'val_accuracy')\n",
        "plt.xlabel('Epoch')\n",
        "plt.ylabel('Accuracy')\n",
        "plt.ylim([0.5, 1])\n",
        "plt.legend(loc='lower right')\n",
        "\n",
        "test_loss, test_acc = model.evaluate(validation_data)"
      ],
      "metadata": {
        "id": "3GreST_6C4KO"
      },
      "execution_count": null,
      "outputs": []
    },
    {
      "cell_type": "code",
      "source": [
        "print(test_acc)"
      ],
      "metadata": {
        "id": "Bwjy17EVCgMJ"
      },
      "execution_count": null,
      "outputs": []
    },
    {
      "cell_type": "code",
      "source": [
        "images=[]\n",
        "labels=[]\n",
        "for image, label in test_data:\n",
        "  images.extend(image.numpy())\n",
        "  labels.extend(label.numpy())\n",
        "predicted_labels = model.predict(np.array(images))\n",
        "predicted_labels = list(map(lambda val : np.argmax(val), predicted_labels))\n",
        "len(predicted_labels)"
      ],
      "metadata": {
        "id": "y8DFmTacCgWv"
      },
      "execution_count": null,
      "outputs": []
    },
    {
      "cell_type": "code",
      "source": [
        "len(predicted_labels)"
      ],
      "metadata": {
        "id": "tZWg23UADY3c"
      },
      "execution_count": null,
      "outputs": []
    },
    {
      "cell_type": "code",
      "source": [
        "num_classes =train_data.class_names"
      ],
      "metadata": {
        "id": "UhsWnEuIDY9c"
      },
      "execution_count": null,
      "outputs": []
    },
    {
      "cell_type": "code",
      "source": [
        "plt.figure(figsize=(10,10))\n",
        "for i in range(16):\n",
        "    plt.subplot(4,4,i+1)\n",
        "    plt.subplots_adjust(hspace = 0.3)\n",
        "    plt.imshow(images[i].astype(\"uint8\"))\n",
        "    color = \"blue\" if predicted_labels[i] == labels[i] else \"red\"\n",
        "    plt.title(num_classes[predicted_labels[i]].title(), color=color)\n",
        "    plt.axis('off')\n",
        "_ = plt.suptitle(\"Model predictions (blue: correct, red: incorrect)\")"
      ],
      "metadata": {
        "id": "rpDq0bRDDZAf"
      },
      "execution_count": null,
      "outputs": []
    },
    {
      "cell_type": "code",
      "source": [
        "from sklearn.metrics import accuracy_score,precision_score,recall_score,f1_score,ConfusionMatrixDisplay,classification_report"
      ],
      "metadata": {
        "id": "5kVnQKUeDZDe"
      },
      "execution_count": null,
      "outputs": []
    },
    {
      "cell_type": "code",
      "source": [
        "print(classification_report(labels,predicted_labels))"
      ],
      "metadata": {
        "id": "WHBn5K0wCgar"
      },
      "execution_count": null,
      "outputs": []
    },
    {
      "cell_type": "code",
      "source": [
        "ConfusionMatrixDisplay.from_predictions(labels, predicted_labels, display_labels=num_classes, xticks_rotation=\"vertical\")\n",
        "plt.show()"
      ],
      "metadata": {
        "id": "N6lw1rJ87Uw0"
      },
      "execution_count": null,
      "outputs": []
    },
    {
      "cell_type": "code",
      "source": [],
      "metadata": {
        "id": "HqtzhGiVEIMA"
      },
      "execution_count": null,
      "outputs": []
    },
    {
      "cell_type": "code",
      "source": [],
      "metadata": {
        "id": "6k1MpHoREIO4"
      },
      "execution_count": null,
      "outputs": []
    },
    {
      "cell_type": "code",
      "source": [],
      "metadata": {
        "id": "anBi-7izEISE"
      },
      "execution_count": null,
      "outputs": []
    },
    {
      "cell_type": "code",
      "source": [],
      "metadata": {
        "id": "f9tCjc5YEIVJ"
      },
      "execution_count": null,
      "outputs": []
    },
    {
      "cell_type": "code",
      "source": [],
      "metadata": {
        "id": "bt13B3agEIXz"
      },
      "execution_count": null,
      "outputs": []
    }
  ]
}