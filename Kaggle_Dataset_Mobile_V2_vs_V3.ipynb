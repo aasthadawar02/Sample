{
  "nbformat": 4,
  "nbformat_minor": 0,
  "metadata": {
    "colab": {
      "provenance": [],
      "authorship_tag": "ABX9TyNzlMOzcRvfx49khoHpdI1R",
      "include_colab_link": true
    },
    "kernelspec": {
      "name": "python3",
      "display_name": "Python 3"
    },
    "language_info": {
      "name": "python"
    }
  },
  "cells": [
    {
      "cell_type": "markdown",
      "metadata": {
        "id": "view-in-github",
        "colab_type": "text"
      },
      "source": [
        "<a href=\"https://colab.research.google.com/github/aasthadawar02/Sample/blob/main/Kaggle_Dataset_Mobile_V2_vs_V3.ipynb\" target=\"_parent\"><img src=\"https://colab.research.google.com/assets/colab-badge.svg\" alt=\"Open In Colab\"/></a>"
      ]
    },
    {
      "cell_type": "code",
      "execution_count": 1,
      "metadata": {
        "id": "EidvIMyW7P2j"
      },
      "outputs": [],
      "source": [
        "import matplotlib.pyplot as plt\n",
        "import numpy as np\n",
        "import tensorflow as tf\n",
        "import tensorflow_hub as hub\n",
        "import PIL.Image as Image\n",
        "import tensorflow_datasets as tfds\n",
        "import pandas as pd"
      ]
    },
    {
      "cell_type": "code",
      "source": [
        "import tensorflow as tf\n",
        "import numpy as np\n",
        "import os\n",
        "from PIL import Image, ImageFilter\n",
        "import matplotlib.pyplot as plt\n",
        "from google.colab import drive\n",
        "from sklearn.metrics import accuracy_score"
      ],
      "metadata": {
        "id": "wvlVhwe-7UHM"
      },
      "execution_count": 2,
      "outputs": []
    },
    {
      "cell_type": "code",
      "source": [
        "drive.mount('/content/drive', force_remount=True)"
      ],
      "metadata": {
        "colab": {
          "base_uri": "https://localhost:8080/"
        },
        "id": "MJcRRsKQ7UMH",
        "outputId": "078e8ace-b034-487e-dd67-d88a19edb108"
      },
      "execution_count": 3,
      "outputs": [
        {
          "output_type": "stream",
          "name": "stdout",
          "text": [
            "Mounted at /content/drive\n"
          ]
        }
      ]
    },
    {
      "cell_type": "code",
      "source": [
        "train_directory=\"/content/drive/MyDrive/TME_6015/Assignment_2/Big_Cats_Kaggle/train\"\n",
        "\n",
        "train_data = tf.keras.utils.image_dataset_from_directory(train_directory,\n",
        "                                                         validation_split=None,\n",
        "                                                         image_size=(128, 128),\n",
        "                                                         batch_size=16)"
      ],
      "metadata": {
        "colab": {
          "base_uri": "https://localhost:8080/"
        },
        "id": "bTANU6rX7UPK",
        "outputId": "88c4bda1-41f9-4437-88f3-546c9bd70eb0"
      },
      "execution_count": 4,
      "outputs": [
        {
          "output_type": "stream",
          "name": "stdout",
          "text": [
            "Found 2339 files belonging to 10 classes.\n"
          ]
        }
      ]
    },
    {
      "cell_type": "code",
      "source": [
        "train_data"
      ],
      "metadata": {
        "colab": {
          "base_uri": "https://localhost:8080/"
        },
        "id": "Lz3IEPGT7USI",
        "outputId": "c30e765d-37d8-46dc-f2d1-27203ef67720"
      },
      "execution_count": 5,
      "outputs": [
        {
          "output_type": "execute_result",
          "data": {
            "text/plain": [
              "<_BatchDataset element_spec=(TensorSpec(shape=(None, 128, 128, 3), dtype=tf.float32, name=None), TensorSpec(shape=(None,), dtype=tf.int32, name=None))>"
            ]
          },
          "metadata": {},
          "execution_count": 5
        }
      ]
    },
    {
      "cell_type": "code",
      "source": [
        "validation_directory=\"/content/drive/MyDrive/TME_6015/Assignment_2/Big_Cats_Kaggle/valid\"\n",
        "validation_data = tf.keras.utils.image_dataset_from_directory(validation_directory,\n",
        "                                                         validation_split=None,\n",
        "                                                         image_size=(128, 128),\n",
        "                                                         batch_size=16)"
      ],
      "metadata": {
        "colab": {
          "base_uri": "https://localhost:8080/"
        },
        "id": "Qps3MPqr7UU-",
        "outputId": "848f8456-7449-43ea-b189-5d4f3578233a"
      },
      "execution_count": 7,
      "outputs": [
        {
          "output_type": "stream",
          "name": "stdout",
          "text": [
            "Found 50 files belonging to 10 classes.\n"
          ]
        }
      ]
    },
    {
      "cell_type": "code",
      "source": [
        "validation_data"
      ],
      "metadata": {
        "colab": {
          "base_uri": "https://localhost:8080/"
        },
        "id": "PsTy1lUO7UX1",
        "outputId": "29b04a6b-68df-4a94-b084-6b38fe835d32"
      },
      "execution_count": 8,
      "outputs": [
        {
          "output_type": "execute_result",
          "data": {
            "text/plain": [
              "<_BatchDataset element_spec=(TensorSpec(shape=(None, 128, 128, 3), dtype=tf.float32, name=None), TensorSpec(shape=(None,), dtype=tf.int32, name=None))>"
            ]
          },
          "metadata": {},
          "execution_count": 8
        }
      ]
    },
    {
      "cell_type": "code",
      "source": [
        "test_directory=\"/content/drive/MyDrive/TME_6015/Assignment_2/Big_Cats_Kaggle/test\"\n",
        "test_data = tf.keras.utils.image_dataset_from_directory(test_directory,\n",
        "                                                         validation_split=None,\n",
        "                                                         image_size=(128, 128),\n",
        "                                                         batch_size=16)"
      ],
      "metadata": {
        "colab": {
          "base_uri": "https://localhost:8080/"
        },
        "id": "yLlF8H6G7Uan",
        "outputId": "a232634b-5731-462b-e482-b5e79b2ee49b"
      },
      "execution_count": 10,
      "outputs": [
        {
          "output_type": "stream",
          "name": "stdout",
          "text": [
            "Found 50 files belonging to 10 classes.\n"
          ]
        }
      ]
    },
    {
      "cell_type": "code",
      "source": [
        "test_data"
      ],
      "metadata": {
        "colab": {
          "base_uri": "https://localhost:8080/"
        },
        "id": "sKCNvqoU7Udp",
        "outputId": "013f7b08-834f-4102-ba6f-f2f0af9de3bb"
      },
      "execution_count": 11,
      "outputs": [
        {
          "output_type": "execute_result",
          "data": {
            "text/plain": [
              "<_BatchDataset element_spec=(TensorSpec(shape=(None, 128, 128, 3), dtype=tf.float32, name=None), TensorSpec(shape=(None,), dtype=tf.int32, name=None))>"
            ]
          },
          "metadata": {},
          "execution_count": 11
        }
      ]
    },
    {
      "cell_type": "code",
      "source": [
        "normalization_layer = tf.keras.layers.Rescaling(1./255)"
      ],
      "metadata": {
        "id": "sXdoD7K17Ugw"
      },
      "execution_count": 12,
      "outputs": []
    },
    {
      "cell_type": "code",
      "source": [
        "model_handle = \"https://www.kaggle.com/models/google/mobilenet-v2/frameworks/TensorFlow2/variations/035-128-classification/versions/2\"\n",
        "\n",
        "feature_extractor = hub.KerasLayer(model_handle,\n",
        "                                   trainable=True)\n",
        "num_class = 10\n",
        "model = tf.keras.Sequential(\n",
        "    [\n",
        "        normalization_layer,\n",
        "        feature_extractor,\n",
        "        tf.keras.layers.Dense(num_class, activation=\"softmax\")\n",
        "    ]\n",
        ")\n",
        "model.build([None, 128, 128, 3])"
      ],
      "metadata": {
        "id": "QiokKIm57Uju"
      },
      "execution_count": 18,
      "outputs": []
    },
    {
      "cell_type": "code",
      "source": [
        "model.summary()"
      ],
      "metadata": {
        "colab": {
          "base_uri": "https://localhost:8080/"
        },
        "id": "E9sZNk4Y7Um4",
        "outputId": "093afd5e-8391-4879-f6be-a0c0c47dcc60"
      },
      "execution_count": 19,
      "outputs": [
        {
          "output_type": "stream",
          "name": "stdout",
          "text": [
            "Model: \"sequential_1\"\n",
            "_________________________________________________________________\n",
            " Layer (type)                Output Shape              Param #   \n",
            "=================================================================\n",
            " rescaling (Rescaling)       (None, 128, 128, 3)       0         \n",
            "                                                                 \n",
            " keras_layer_1 (KerasLayer)  (None, 1001)              1692489   \n",
            "                                                                 \n",
            " dense_1 (Dense)             (None, 10)                10020     \n",
            "                                                                 \n",
            "=================================================================\n",
            "Total params: 1702509 (6.49 MB)\n",
            "Trainable params: 1688429 (6.44 MB)\n",
            "Non-trainable params: 14080 (55.00 KB)\n",
            "_________________________________________________________________\n"
          ]
        }
      ]
    },
    {
      "cell_type": "code",
      "source": [
        "model.compile(\n",
        "  optimizer='adam',\n",
        "  loss=tf.keras.losses.SparseCategoricalCrossentropy(from_logits=True),\n",
        "  metrics=['accuracy'])"
      ],
      "metadata": {
        "id": "ZBXodA9y7UqD"
      },
      "execution_count": 20,
      "outputs": []
    },
    {
      "cell_type": "code",
      "source": [
        "EPOCHS = 25\n",
        "history = model.fit(train_data,\n",
        "                    epochs=EPOCHS,\n",
        "                    validation_data=validation_data)"
      ],
      "metadata": {
        "colab": {
          "base_uri": "https://localhost:8080/"
        },
        "id": "tIEtciYL7UtQ",
        "outputId": "de2d7b66-9684-457f-c769-981b4769dffe"
      },
      "execution_count": null,
      "outputs": [
        {
          "output_type": "stream",
          "name": "stdout",
          "text": [
            "Epoch 1/25\n",
            "147/147 [==============================] - 271s 2s/step - loss: 2.1045 - accuracy: 0.5981 - val_loss: 2.2919 - val_accuracy: 0.5400\n",
            "Epoch 2/25\n",
            "147/147 [==============================] - 34s 228ms/step - loss: 0.7447 - accuracy: 0.7918 - val_loss: 1.7093 - val_accuracy: 0.6800\n",
            "Epoch 3/25\n",
            "147/147 [==============================] - 33s 225ms/step - loss: 0.5794 - accuracy: 0.8444 - val_loss: 1.4971 - val_accuracy: 0.6800\n",
            "Epoch 4/25\n",
            "147/147 [==============================] - 34s 233ms/step - loss: 0.6300 - accuracy: 0.8307 - val_loss: 0.8630 - val_accuracy: 0.7800\n",
            "Epoch 5/25\n",
            "147/147 [==============================] - 35s 234ms/step - loss: 0.5782 - accuracy: 0.8401 - val_loss: 1.3784 - val_accuracy: 0.7000\n",
            "Epoch 6/25\n",
            "147/147 [==============================] - 34s 233ms/step - loss: 0.4671 - accuracy: 0.8782 - val_loss: 0.6221 - val_accuracy: 0.8400\n",
            "Epoch 7/25\n",
            "147/147 [==============================] - 33s 224ms/step - loss: 0.4875 - accuracy: 0.8794 - val_loss: 0.6862 - val_accuracy: 0.8800\n",
            "Epoch 8/25\n",
            "147/147 [==============================] - 34s 233ms/step - loss: 0.3507 - accuracy: 0.9179 - val_loss: 0.6234 - val_accuracy: 0.8800\n",
            "Epoch 9/25\n",
            "147/147 [==============================] - 34s 233ms/step - loss: 0.3751 - accuracy: 0.9077 - val_loss: 0.8396 - val_accuracy: 0.7800\n",
            "Epoch 10/25\n",
            "147/147 [==============================] - 34s 226ms/step - loss: 0.3551 - accuracy: 0.9179 - val_loss: 0.7637 - val_accuracy: 0.8000\n",
            "Epoch 11/25\n",
            "147/147 [==============================] - 34s 233ms/step - loss: 0.4288 - accuracy: 0.8995 - val_loss: 1.1982 - val_accuracy: 0.7400\n",
            "Epoch 12/25\n",
            "147/147 [==============================] - 34s 232ms/step - loss: 0.4734 - accuracy: 0.8803 - val_loss: 0.6248 - val_accuracy: 0.7800\n",
            "Epoch 13/25\n",
            "147/147 [==============================] - 33s 226ms/step - loss: 0.3280 - accuracy: 0.9295 - val_loss: 0.4751 - val_accuracy: 0.8600\n",
            "Epoch 14/25\n",
            "147/147 [==============================] - 34s 233ms/step - loss: 0.2973 - accuracy: 0.9329 - val_loss: 0.7077 - val_accuracy: 0.8600\n",
            "Epoch 15/25\n",
            "147/147 [==============================] - 34s 233ms/step - loss: 0.2333 - accuracy: 0.9581 - val_loss: 0.4581 - val_accuracy: 0.8800\n",
            "Epoch 16/25\n",
            "147/147 [==============================] - 34s 228ms/step - loss: 0.2979 - accuracy: 0.9384 - val_loss: 0.8046 - val_accuracy: 0.8000\n",
            "Epoch 17/25\n",
            "147/147 [==============================] - 34s 233ms/step - loss: 0.3911 - accuracy: 0.9136 - val_loss: 0.5539 - val_accuracy: 0.8800\n",
            "Epoch 18/25\n",
            "147/147 [==============================] - 34s 227ms/step - loss: 0.2277 - accuracy: 0.9555 - val_loss: 0.8065 - val_accuracy: 0.8800\n",
            "Epoch 19/25\n",
            "147/147 [==============================] - 35s 234ms/step - loss: 0.2963 - accuracy: 0.9286 - val_loss: 0.8439 - val_accuracy: 0.8400\n",
            "Epoch 20/25\n",
            " 28/147 [====>.........................] - ETA: 28s - loss: 0.3190 - accuracy: 0.9397"
          ]
        }
      ]
    },
    {
      "cell_type": "code",
      "source": [
        "plt.plot(history.history['accuracy'], label='accuracy')\n",
        "plt.plot(history.history['val_accuracy'], label = 'val_accuracy')\n",
        "plt.xlabel('Epoch')\n",
        "plt.ylabel('Accuracy')\n",
        "plt.ylim([0.5, 1])\n",
        "plt.legend(loc='lower right')\n",
        "\n",
        "test_loss, test_acc = model.evaluate(validation_data)"
      ],
      "metadata": {
        "id": "VmYPIDmf8VSy"
      },
      "execution_count": null,
      "outputs": []
    },
    {
      "cell_type": "code",
      "source": [
        "print(test_acc)"
      ],
      "metadata": {
        "id": "vfDmxbuG8VV-"
      },
      "execution_count": null,
      "outputs": []
    },
    {
      "cell_type": "code",
      "source": [
        "images=[]\n",
        "labels=[]\n",
        "for image, label in test_data:\n",
        "  images.extend(image.numpy())\n",
        "  labels.extend(label.numpy())\n",
        "predicted_labels = model.predict(np.array(images))\n",
        "predicted_labels = list(map(lambda val : np.argmax(val), predicted_labels))\n",
        "len(predicted_labels)"
      ],
      "metadata": {
        "id": "ic3BRG2N8VZX"
      },
      "execution_count": null,
      "outputs": []
    },
    {
      "cell_type": "code",
      "source": [
        "len(predicted_labels)"
      ],
      "metadata": {
        "id": "H2NQSVWw8Vce"
      },
      "execution_count": null,
      "outputs": []
    },
    {
      "cell_type": "code",
      "source": [
        "num_classes =train_data.class_names"
      ],
      "metadata": {
        "id": "BEdQxXLt8cOM"
      },
      "execution_count": null,
      "outputs": []
    },
    {
      "cell_type": "code",
      "source": [
        "plt.figure(figsize=(10,10))\n",
        "for i in range(16):\n",
        "    plt.subplot(4,4,i+1)\n",
        "    plt.subplots_adjust(hspace = 0.3)\n",
        "    plt.imshow(images[i].astype(\"uint8\"))\n",
        "    color = \"blue\" if predicted_labels[i] == labels[i] else \"red\"\n",
        "    plt.title(num_classes[predicted_labels[i]].title(), color=color)\n",
        "    plt.axis('off')\n",
        "_ = plt.suptitle(\"Model predictions (blue: correct, red: incorrect)\")"
      ],
      "metadata": {
        "id": "S-WVTfgR8cRO"
      },
      "execution_count": null,
      "outputs": []
    },
    {
      "cell_type": "code",
      "source": [
        "from sklearn.metrics import accuracy_score,precision_score,recall_score,f1_score,ConfusionMatrixDisplay,classification_report"
      ],
      "metadata": {
        "id": "DJ1CA4Oj8cUK"
      },
      "execution_count": null,
      "outputs": []
    },
    {
      "cell_type": "code",
      "source": [
        "print(classification_report(labels,predicted_labels))"
      ],
      "metadata": {
        "id": "xkNXQCI58cXB"
      },
      "execution_count": null,
      "outputs": []
    },
    {
      "cell_type": "code",
      "source": [
        "ConfusionMatrixDisplay.from_predictions(labels, predicted_labels, display_labels=num_classes, xticks_rotation=\"vertical\")\n",
        "plt.show()"
      ],
      "metadata": {
        "id": "uzBAkoGy8cZf"
      },
      "execution_count": null,
      "outputs": []
    },
    {
      "cell_type": "code",
      "source": [],
      "metadata": {
        "id": "Y_9OzF158VfQ"
      },
      "execution_count": null,
      "outputs": []
    },
    {
      "cell_type": "code",
      "source": [],
      "metadata": {
        "id": "nxFuPftOCf6K"
      },
      "execution_count": null,
      "outputs": []
    },
    {
      "cell_type": "code",
      "source": [
        "train_directory=\"/content/drive/MyDrive/TME_6015/Assignment_2/Big_Cats_Kaggle/train\"\n",
        "\n",
        "train_data = tf.keras.utils.image_dataset_from_directory(train_directory,\n",
        "                                                         validation_split=None,\n",
        "                                                         image_size=(128, 128),\n",
        "                                                         batch_size=16)"
      ],
      "metadata": {
        "id": "AIv1_wgdCgAK"
      },
      "execution_count": null,
      "outputs": []
    },
    {
      "cell_type": "code",
      "source": [
        "train_data"
      ],
      "metadata": {
        "id": "nLq0pwPuCgEm"
      },
      "execution_count": null,
      "outputs": []
    },
    {
      "cell_type": "code",
      "source": [
        "validation_directory=\"/content/drive/MyDrive/TME_6015/Assignment_2/Big_Cats_Kaggle/valid\"\n",
        "validation_data = tf.keras.utils.image_dataset_from_directory(validation_directory,\n",
        "                                                         validation_split=None,\n",
        "                                                         image_size=(128, 128),\n",
        "                                                         batch_size=16)"
      ],
      "metadata": {
        "id": "roJdKuWYCgIU"
      },
      "execution_count": null,
      "outputs": []
    },
    {
      "cell_type": "code",
      "source": [
        "validation_data"
      ],
      "metadata": {
        "id": "mVcnEAW6C3zZ"
      },
      "execution_count": null,
      "outputs": []
    },
    {
      "cell_type": "code",
      "source": [
        "test_directory=\"/content/drive/MyDrive/TME_6015/Assignment_2/Big_Cats_Kaggle/test\"\n",
        "test_data = tf.keras.utils.image_dataset_from_directory(test_directory,\n",
        "                                                         validation_split=None,\n",
        "                                                         image_size=(128, 128),\n",
        "                                                         batch_size=16)"
      ],
      "metadata": {
        "id": "oFoqX4lNC32S"
      },
      "execution_count": null,
      "outputs": []
    },
    {
      "cell_type": "code",
      "source": [
        "test_data"
      ],
      "metadata": {
        "id": "6a9_RaGIC35L"
      },
      "execution_count": null,
      "outputs": []
    },
    {
      "cell_type": "code",
      "source": [
        "normalization_layer = tf.keras.layers.Rescaling(1./255)"
      ],
      "metadata": {
        "id": "aBFHl19JC38J"
      },
      "execution_count": null,
      "outputs": []
    },
    {
      "cell_type": "code",
      "source": [
        "model_handle = \"https://www.kaggle.com/models/google/mobilenet-v2/frameworks/TensorFlow2/variations/035-128-classification/versions/2\"\n",
        "\n",
        "feature_extractor = hub.KerasLayer(model_handle,\n",
        "                                   trainable=True)\n",
        "num_class = 10\n",
        "model = tf.keras.Sequential(\n",
        "    [\n",
        "        normalization_layer,\n",
        "        feature_extractor,\n",
        "        tf.keras.layers.Dense(num_class, activation=\"softmax\")\n",
        "    ]\n",
        ")\n",
        "model.build([None, 128, 128, 3])"
      ],
      "metadata": {
        "id": "I9jDUjWeC3-2"
      },
      "execution_count": null,
      "outputs": []
    },
    {
      "cell_type": "code",
      "source": [
        "model.summary()"
      ],
      "metadata": {
        "id": "Z3VXYi8CC4B7"
      },
      "execution_count": null,
      "outputs": []
    },
    {
      "cell_type": "code",
      "source": [
        "model.compile(\n",
        "  optimizer='adam',\n",
        "  loss=tf.keras.losses.SparseCategoricalCrossentropy(from_logits=True),\n",
        "  metrics=['accuracy'])"
      ],
      "metadata": {
        "id": "fzg6lhQxC4Ef"
      },
      "execution_count": null,
      "outputs": []
    },
    {
      "cell_type": "code",
      "source": [
        "EPOCHS = 25\n",
        "history = model.fit(train_data,\n",
        "                    epochs=EPOCHS,\n",
        "                    validation_data=validation_data)"
      ],
      "metadata": {
        "id": "XgbWA75LC4HT"
      },
      "execution_count": null,
      "outputs": []
    },
    {
      "cell_type": "code",
      "source": [
        "plt.plot(history.history['accuracy'], label='accuracy')\n",
        "plt.plot(history.history['val_accuracy'], label = 'val_accuracy')\n",
        "plt.xlabel('Epoch')\n",
        "plt.ylabel('Accuracy')\n",
        "plt.ylim([0.5, 1])\n",
        "plt.legend(loc='lower right')\n",
        "\n",
        "test_loss, test_acc = model.evaluate(validation_data)"
      ],
      "metadata": {
        "id": "3GreST_6C4KO"
      },
      "execution_count": null,
      "outputs": []
    },
    {
      "cell_type": "code",
      "source": [
        "print(test_acc)"
      ],
      "metadata": {
        "id": "Bwjy17EVCgMJ"
      },
      "execution_count": null,
      "outputs": []
    },
    {
      "cell_type": "code",
      "source": [
        "images=[]\n",
        "labels=[]\n",
        "for image, label in test_data:\n",
        "  images.extend(image.numpy())\n",
        "  labels.extend(label.numpy())\n",
        "predicted_labels = model.predict(np.array(images))\n",
        "predicted_labels = list(map(lambda val : np.argmax(val), predicted_labels))\n",
        "len(predicted_labels)"
      ],
      "metadata": {
        "id": "y8DFmTacCgWv"
      },
      "execution_count": null,
      "outputs": []
    },
    {
      "cell_type": "code",
      "source": [
        "len(predicted_labels)"
      ],
      "metadata": {
        "id": "tZWg23UADY3c"
      },
      "execution_count": null,
      "outputs": []
    },
    {
      "cell_type": "code",
      "source": [
        "num_classes =train_data.class_names"
      ],
      "metadata": {
        "id": "UhsWnEuIDY9c"
      },
      "execution_count": null,
      "outputs": []
    },
    {
      "cell_type": "code",
      "source": [
        "plt.figure(figsize=(10,10))\n",
        "for i in range(16):\n",
        "    plt.subplot(4,4,i+1)\n",
        "    plt.subplots_adjust(hspace = 0.3)\n",
        "    plt.imshow(images[i].astype(\"uint8\"))\n",
        "    color = \"blue\" if predicted_labels[i] == labels[i] else \"red\"\n",
        "    plt.title(num_classes[predicted_labels[i]].title(), color=color)\n",
        "    plt.axis('off')\n",
        "_ = plt.suptitle(\"Model predictions (blue: correct, red: incorrect)\")"
      ],
      "metadata": {
        "id": "rpDq0bRDDZAf"
      },
      "execution_count": null,
      "outputs": []
    },
    {
      "cell_type": "code",
      "source": [
        "from sklearn.metrics import accuracy_score,precision_score,recall_score,f1_score,ConfusionMatrixDisplay,classification_report"
      ],
      "metadata": {
        "id": "5kVnQKUeDZDe"
      },
      "execution_count": null,
      "outputs": []
    },
    {
      "cell_type": "code",
      "source": [
        "print(classification_report(labels,predicted_labels))"
      ],
      "metadata": {
        "id": "WHBn5K0wCgar"
      },
      "execution_count": null,
      "outputs": []
    },
    {
      "cell_type": "code",
      "source": [
        "ConfusionMatrixDisplay.from_predictions(labels, predicted_labels, display_labels=num_classes, xticks_rotation=\"vertical\")\n",
        "plt.show()"
      ],
      "metadata": {
        "id": "N6lw1rJ87Uw0"
      },
      "execution_count": null,
      "outputs": []
    }
  ]
}